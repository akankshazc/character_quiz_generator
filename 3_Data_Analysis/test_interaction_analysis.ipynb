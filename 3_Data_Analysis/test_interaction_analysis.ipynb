{
 "cells": [
  {
   "cell_type": "code",
   "execution_count": 1,
   "metadata": {},
   "outputs": [],
   "source": [
    "import spacy\n",
    "import os\n",
    "import pandas as pd"
   ]
  },
  {
   "cell_type": "markdown",
   "metadata": {},
   "source": [
    "Using text with preserved sentence structure"
   ]
  },
  {
   "cell_type": "markdown",
   "metadata": {},
   "source": [
    "#### Extracting characters"
   ]
  },
  {
   "cell_type": "code",
   "execution_count": 2,
   "metadata": {},
   "outputs": [],
   "source": [
    "# same function in test_eda.ipynb so need to put this in one place in the the scripts\n",
    "def chapter_order(filename):\n",
    "\n",
    "    book_number = filename.split('_')[0]\n",
    "    chapter_number = filename.split('_')[2].zfill(2)\n",
    "    new_name = book_number + '.' + chapter_number\n",
    "    \n",
    "    return new_name"
   ]
  },
  {
   "cell_type": "code",
   "execution_count": 3,
   "metadata": {},
   "outputs": [],
   "source": [
    "# Combine all chapters to one list of chapter text\n",
    "# one element of the list = one chapter\n",
    "# Just like text_sentiment_analysis.ipynb\n",
    "\n",
    "mb_dir = '../2_Text_Preprocessing/TMBD_Chapters_sent_lemma'\n",
    "\n",
    "mb_chapter_texts = {}\n",
    "\n",
    "for filename in os.listdir(mb_dir):\n",
    "    filepath =  os.path.join(mb_dir, filename)\n",
    "    with open(filepath, 'r', encoding='utf-8') as chapter_file:\n",
    "        chapter_text = chapter_file.read()\n",
    "        mb_chapter_texts[chapter_order(filename)] = chapter_text\n",
    "\n",
    "\n",
    "# Combine all chapters to one list of chapter text\n",
    "# one element of the list = one chapter\n",
    "# same as test_sentiment_analysis.ipynb\n",
    "\n",
    "ir_dir = '../2_Text_Preprocessing/IR_Chapters_sent_lemma'\n",
    "\n",
    "ir_chapter_texts = {}\n",
    "\n",
    "for filename in os.listdir(ir_dir):\n",
    "    filepath =  os.path.join(ir_dir, filename)\n",
    "    with open(filepath, 'r', encoding='utf-8') as chapter_file:\n",
    "        chapter_text = chapter_file.read()\n",
    "        ir_chapter_texts[chapter_order(filename)] = chapter_text"
   ]
  },
  {
   "cell_type": "code",
   "execution_count": 10,
   "metadata": {},
   "outputs": [],
   "source": [
    "mb_nlp = spacy.load(\"en_core_web_sm\")\n",
    "mb_ents = {}\n",
    "\n",
    "for name, text in mb_chapter_texts.items():\n",
    "    mb_doc = mb_nlp(text)\n",
    "    mb_ents[name] = [(ent.text, ent.label_) for ent in mb_doc.ents]\n",
    "\n",
    "\n",
    "mb_unique_people_list = []\n",
    "\n",
    "for name, ents in mb_ents.items():\n",
    "    for ent in ents:\n",
    "        if ent[1] == 'PERSON':\n",
    "            for word in ent[0].split():\n",
    "                if word not in mb_unique_people_list:\n",
    "                    mb_unique_people_list.append(word)\n"
   ]
  },
  {
   "cell_type": "code",
   "execution_count": 12,
   "metadata": {},
   "outputs": [
    {
     "data": {
      "text/plain": [
       "['miki',\n",
       " 'graycris',\n",
       " 'brais',\n",
       " 'abene',\n",
       " 'tlacey',\n",
       " 'nowi',\n",
       " 'don',\n",
       " 'wilken',\n",
       " 'wilkens',\n",
       " 'scan']"
      ]
     },
     "execution_count": 12,
     "metadata": {},
     "output_type": "execute_result"
    }
   ],
   "source": [
    "mb_unique_people_list[:10]"
   ]
  },
  {
   "cell_type": "markdown",
   "metadata": {},
   "source": [
    "#### Now for Interaction analysis."
   ]
  },
  {
   "cell_type": "code",
   "execution_count": 13,
   "metadata": {},
   "outputs": [],
   "source": [
    "import networkx as nx "
   ]
  },
  {
   "cell_type": "markdown",
   "metadata": {},
   "source": [
    "We already have text in chunks = chapters."
   ]
  },
  {
   "cell_type": "code",
   "execution_count": 14,
   "metadata": {},
   "outputs": [],
   "source": [
    "# mb_interaction_dict = {}\n",
    "\n",
    "# for chapter_name, chapter_text in mb_chapter_texts.items():\n",
    "#     chapter_word_list = chapter_text.split()\n",
    "#     mb_interaction_dict[chapter_name] = []\n",
    "    "
   ]
  },
  {
   "cell_type": "code",
   "execution_count": 15,
   "metadata": {},
   "outputs": [],
   "source": [
    "from collections import defaultdict\n",
    "\n",
    "# chapter interactions\n",
    "chapter_1_dict = defaultdict(lambda: 0)\n",
    "\n",
    "for people in mb_unique_people_list:\n",
    "    chapter_1_text = mb_chapter_texts['1.01'].split()\n",
    "    if people in chapter_1_text and chapter_1_text[chapter_1_text.index(people) + 1] in people:\n",
    "        person_1 = people\n",
    "        person_2 = chapter_1_text[chapter_1_text.index(people) + 1] \n",
    "        chapter_1_dict[(person_1, person_2)] += 1\n",
    "\n"
   ]
  },
  {
   "cell_type": "code",
   "execution_count": 16,
   "metadata": {},
   "outputs": [
    {
     "data": {
      "text/plain": [
       "defaultdict(<function __main__.<lambda>()>,\n",
       "            {('realized', 'i'): 1, ('stopped', 'to'): 1})"
      ]
     },
     "execution_count": 16,
     "metadata": {},
     "output_type": "execute_result"
    }
   ],
   "source": [
    "chapter_1_dict"
   ]
  },
  {
   "cell_type": "code",
   "execution_count": 19,
   "metadata": {},
   "outputs": [],
   "source": [
    "mb_person_dict = {}\n",
    "\n",
    "for key, chapter in mb_chapter_texts.items():\n",
    "    mb_person_dict[key] = defaultdict(lambda: 0)\n",
    "    chapter_text = chapter.split()\n",
    "    for people in mb_unique_people_list:\n",
    "        if people in chapter_text and chapter_text[chapter_text.index(people) + 1] in people:\n",
    "            person_1 = people\n",
    "            person_2 = chapter_text[chapter_text.index(people) + 1] \n",
    "            mb_person_dict[key][(person_1, person_2)] += 1"
   ]
  },
  {
   "cell_type": "code",
   "execution_count": 18,
   "metadata": {},
   "outputs": [
    {
     "data": {
      "text/plain": [
       "{'3.05': defaultdict(<function __main__.<lambda>()>, {}),\n",
       " '6.01': defaultdict(<function __main__.<lambda>()>,\n",
       "             {('la', 'la'): 1, ('attack', 'at'): 1}),\n",
       " '6.16': defaultdict(<function __main__.<lambda>()>, {}),\n",
       " '5.01': defaultdict(<function __main__.<lambda>()>, {}),\n",
       " '1.03': defaultdict(<function __main__.<lambda>()>, {('time', 'i'): 1}),\n",
       " '6.07': defaultdict(<function __main__.<lambda>()>,\n",
       "             {('amena', 'a'): 1, ('right', 'i'): 1}),\n",
       " '5.07': defaultdict(<function __main__.<lambda>()>, {('realized', 'i'): 1}),\n",
       " '1.01': defaultdict(<function __main__.<lambda>()>,\n",
       "             {('realized', 'i'): 1, ('stopped', 'to'): 1}),\n",
       " '2.04': defaultdict(<function __main__.<lambda>()>,\n",
       "             {('kalidon', 'a'): 1, ('realized', 'i'): 1, ('head', 'a'): 1}),\n",
       " '3.03': defaultdict(<function __main__.<lambda>()>, {('rin', 'i'): 1}),\n",
       " '7.10': defaultdict(<function __main__.<lambda>()>, {}),\n",
       " '7.09': defaultdict(<function __main__.<lambda>()>, {}),\n",
       " '1.07': defaultdict(<function __main__.<lambda>()>, {}),\n",
       " '3.04': defaultdict(<function __main__.<lambda>()>,\n",
       "             {('graycris', 'i'): 1, ('realized', 'i'): 1}),\n",
       " '4.01': defaultdict(<function __main__.<lambda>()>, {}),\n",
       " '7.04': defaultdict(<function __main__.<lambda>()>,\n",
       "             {('time', 'i'): 1, ('realized', 'i'): 1}),\n",
       " '6.06': defaultdict(<function __main__.<lambda>()>, {('argala', 'a'): 1}),\n",
       " '2.03': defaultdict(<function __main__.<lambda>()>, {('time', 'i'): 1}),\n",
       " '5.08': defaultdict(<function __main__.<lambda>()>, {}),\n",
       " '4.07': defaultdict(<function __main__.<lambda>()>,\n",
       "             {('audio', 'i'): 1, ('info', 'i'): 1}),\n",
       " '6.18': defaultdict(<function __main__.<lambda>()>, {}),\n",
       " '3.02': defaultdict(<function __main__.<lambda>()>, {}),\n",
       " '6.15': defaultdict(<function __main__.<lambda>()>, {}),\n",
       " '6.08': defaultdict(<function __main__.<lambda>()>, {}),\n",
       " '6.13': defaultdict(<function __main__.<lambda>()>, {('realized', 'i'): 1}),\n",
       " '2.06': defaultdict(<function __main__.<lambda>()>, {('time', 'i'): 1}),\n",
       " '7.12': defaultdict(<function __main__.<lambda>()>, {}),\n",
       " '7.08': defaultdict(<function __main__.<lambda>()>, {}),\n",
       " '2.08': defaultdict(<function __main__.<lambda>()>, {}),\n",
       " '4.03': defaultdict(<function __main__.<lambda>()>, {}),\n",
       " '1.04': defaultdict(<function __main__.<lambda>()>, {('info', 'i'): 1}),\n",
       " '2.07': defaultdict(<function __main__.<lambda>()>, {}),\n",
       " '1.05': defaultdict(<function __main__.<lambda>()>, {}),\n",
       " '4.06': defaultdict(<function __main__.<lambda>()>, {}),\n",
       " '5.03': defaultdict(<function __main__.<lambda>()>, {('realized', 'i'): 1}),\n",
       " '6.04': defaultdict(<function __main__.<lambda>()>, {('right', 'i'): 1}),\n",
       " '6.12': defaultdict(<function __main__.<lambda>()>, {}),\n",
       " '6.11': defaultdict(<function __main__.<lambda>()>, {}),\n",
       " '3.01': defaultdict(<function __main__.<lambda>()>, {('rin', 'i'): 1}),\n",
       " '6.05': defaultdict(<function __main__.<lambda>()>, {}),\n",
       " '2.02': defaultdict(<function __main__.<lambda>()>, {}),\n",
       " '4.02': defaultdict(<function __main__.<lambda>()>, {('realized', 'i'): 1}),\n",
       " '6.14': defaultdict(<function __main__.<lambda>()>, {('right', 'i'): 1}),\n",
       " '7.11': defaultdict(<function __main__.<lambda>()>, {('realized', 'i'): 1}),\n",
       " '5.02': defaultdict(<function __main__.<lambda>()>, {}),\n",
       " '7.05': defaultdict(<function __main__.<lambda>()>, {}),\n",
       " '6.20': defaultdict(<function __main__.<lambda>()>, {}),\n",
       " '6.10': defaultdict(<function __main__.<lambda>()>, {('narrowed', 'a'): 1}),\n",
       " '7.01': defaultdict(<function __main__.<lambda>()>, {('time', 'i'): 1}),\n",
       " '4.05': defaultdict(<function __main__.<lambda>()>, {('info', 'i'): 1}),\n",
       " '4.08': defaultdict(<function __main__.<lambda>()>, {('info', 'i'): 1}),\n",
       " '6.03': defaultdict(<function __main__.<lambda>()>, {('right', 'i'): 1}),\n",
       " '3.06': defaultdict(<function __main__.<lambda>()>, {}),\n",
       " '2.09': defaultdict(<function __main__.<lambda>()>, {}),\n",
       " '5.06': defaultdict(<function __main__.<lambda>()>, {}),\n",
       " '6.17': defaultdict(<function __main__.<lambda>()>, {}),\n",
       " '6.02': defaultdict(<function __main__.<lambda>()>, {}),\n",
       " '6.09': defaultdict(<function __main__.<lambda>()>, {('audio', 'i'): 1}),\n",
       " '7.03': defaultdict(<function __main__.<lambda>()>, {}),\n",
       " '5.04': defaultdict(<function __main__.<lambda>()>,\n",
       "             {('realized', 'i'): 1, ('security', 'i'): 1}),\n",
       " '2.05': defaultdict(<function __main__.<lambda>()>, {}),\n",
       " '1.08': defaultdict(<function __main__.<lambda>()>, {('time', 'i'): 1}),\n",
       " '4.04': defaultdict(<function __main__.<lambda>()>, {('expression', 'i'): 1}),\n",
       " '6.19': defaultdict(<function __main__.<lambda>()>, {}),\n",
       " '1.02': defaultdict(<function __main__.<lambda>()>,\n",
       "             {('realized', 'i'): 1, ('right', 'i'): 1}),\n",
       " '2.01': defaultdict(<function __main__.<lambda>()>, {}),\n",
       " '7.07': defaultdict(<function __main__.<lambda>()>, {('realized', 'i'): 1}),\n",
       " '7.06': defaultdict(<function __main__.<lambda>()>, {}),\n",
       " '5.05': defaultdict(<function __main__.<lambda>()>, {('attack', 'a'): 1}),\n",
       " '1.06': defaultdict(<function __main__.<lambda>()>, {}),\n",
       " '7.02': defaultdict(<function __main__.<lambda>()>, {('right', 'i'): 1})}"
      ]
     },
     "execution_count": 18,
     "metadata": {},
     "output_type": "execute_result"
    }
   ],
   "source": [
    "mb_person_dict"
   ]
  },
  {
   "cell_type": "code",
   "execution_count": null,
   "metadata": {},
   "outputs": [],
   "source": []
  }
 ],
 "metadata": {
  "kernelspec": {
   "display_name": "venv",
   "language": "python",
   "name": "python3"
  },
  "language_info": {
   "codemirror_mode": {
    "name": "ipython",
    "version": 3
   },
   "file_extension": ".py",
   "mimetype": "text/x-python",
   "name": "python",
   "nbconvert_exporter": "python",
   "pygments_lexer": "ipython3",
   "version": "3.8.10"
  }
 },
 "nbformat": 4,
 "nbformat_minor": 2
}
